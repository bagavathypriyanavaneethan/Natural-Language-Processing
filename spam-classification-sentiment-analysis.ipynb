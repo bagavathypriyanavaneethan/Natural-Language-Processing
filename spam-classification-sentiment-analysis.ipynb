{
 "cells": [
  {
   "cell_type": "code",
   "execution_count": 1,
   "metadata": {
    "_cell_guid": "b1076dfc-b9ad-4769-8c92-a6c4dae69d19",
    "_uuid": "8f2839f25d086af736a60e9eeb907d3b93b6e0e5",
    "execution": {
     "iopub.execute_input": "2020-11-19T11:10:48.778703Z",
     "iopub.status.busy": "2020-11-19T11:10:48.777858Z",
     "iopub.status.idle": "2020-11-19T11:10:48.784120Z",
     "shell.execute_reply": "2020-11-19T11:10:48.784902Z"
    },
    "papermill": {
     "duration": 0.033416,
     "end_time": "2020-11-19T11:10:48.785120",
     "exception": false,
     "start_time": "2020-11-19T11:10:48.751704",
     "status": "completed"
    },
    "tags": []
   },
   "outputs": [
    {
     "name": "stdout",
     "output_type": "stream",
     "text": [
      "/kaggle/input/email-spam-dataset/Email spam.csv\n"
     ]
    }
   ],
   "source": [
    "# This Python 3 environment comes with many helpful analytics libraries installed\n",
    "# It is defined by the kaggle/python Docker image: https://github.com/kaggle/docker-python\n",
    "# For example, here's several helpful packages to load\n",
    "\n",
    "import numpy as np # linear algebra\n",
    "import pandas as pd # data processing, CSV file I/O (e.g. pd.read_csv)\n",
    "\n",
    "# Input data files are available in the read-only \"../input/\" directory\n",
    "# For example, running this (by clicking run or pressing Shift+Enter) will list all files under the input directory\n",
    "\n",
    "import os\n",
    "for dirname, _, filenames in os.walk('/kaggle/input'):\n",
    "    for filename in filenames:\n",
    "        print(os.path.join(dirname, filename))\n",
    "\n",
    "# You can write up to 20GB to the current directory (/kaggle/working/) that gets preserved as output when you create a version using \"Save & Run All\" \n",
    "# You can also write temporary files to /kaggle/temp/, but they won't be saved outside of the current session"
   ]
  },
  {
   "cell_type": "code",
   "execution_count": 2,
   "metadata": {
    "_cell_guid": "79c7e3d0-c299-4dcb-8224-4455121ee9b0",
    "_uuid": "d629ff2d2480ee46fbb7e2d37f6b5fab8052498a",
    "execution": {
     "iopub.execute_input": "2020-11-19T11:10:48.823631Z",
     "iopub.status.busy": "2020-11-19T11:10:48.822827Z",
     "iopub.status.idle": "2020-11-19T11:10:48.851560Z",
     "shell.execute_reply": "2020-11-19T11:10:48.850799Z"
    },
    "papermill": {
     "duration": 0.049472,
     "end_time": "2020-11-19T11:10:48.851689",
     "exception": false,
     "start_time": "2020-11-19T11:10:48.802217",
     "status": "completed"
    },
    "tags": []
   },
   "outputs": [],
   "source": [
    "import matplotlib.pyplot as plt\n",
    "import regex as re\n",
    "import sqlite3"
   ]
  },
  {
   "cell_type": "code",
   "execution_count": 3,
   "metadata": {
    "execution": {
     "iopub.execute_input": "2020-11-19T11:10:48.889979Z",
     "iopub.status.busy": "2020-11-19T11:10:48.889249Z",
     "iopub.status.idle": "2020-11-19T11:10:49.044599Z",
     "shell.execute_reply": "2020-11-19T11:10:49.043865Z"
    },
    "papermill": {
     "duration": 0.176898,
     "end_time": "2020-11-19T11:10:49.044728",
     "exception": false,
     "start_time": "2020-11-19T11:10:48.867830",
     "status": "completed"
    },
    "tags": []
   },
   "outputs": [
    {
     "data": {
      "text/html": [
       "<div>\n",
       "<style scoped>\n",
       "    .dataframe tbody tr th:only-of-type {\n",
       "        vertical-align: middle;\n",
       "    }\n",
       "\n",
       "    .dataframe tbody tr th {\n",
       "        vertical-align: top;\n",
       "    }\n",
       "\n",
       "    .dataframe thead th {\n",
       "        text-align: right;\n",
       "    }\n",
       "</style>\n",
       "<table border=\"1\" class=\"dataframe\">\n",
       "  <thead>\n",
       "    <tr style=\"text-align: right;\">\n",
       "      <th></th>\n",
       "      <th>text</th>\n",
       "      <th>spam</th>\n",
       "    </tr>\n",
       "  </thead>\n",
       "  <tbody>\n",
       "    <tr>\n",
       "      <th>0</th>\n",
       "      <td>Subject: naturally irresistible your corporate...</td>\n",
       "      <td>1</td>\n",
       "    </tr>\n",
       "    <tr>\n",
       "      <th>1</th>\n",
       "      <td>Subject: the stock trading gunslinger  fanny i...</td>\n",
       "      <td>1</td>\n",
       "    </tr>\n",
       "    <tr>\n",
       "      <th>2</th>\n",
       "      <td>Subject: unbelievable new homes made easy  im ...</td>\n",
       "      <td>1</td>\n",
       "    </tr>\n",
       "    <tr>\n",
       "      <th>3</th>\n",
       "      <td>Subject: 4 color printing special  request add...</td>\n",
       "      <td>1</td>\n",
       "    </tr>\n",
       "    <tr>\n",
       "      <th>4</th>\n",
       "      <td>Subject: do not have money , get software cds ...</td>\n",
       "      <td>1</td>\n",
       "    </tr>\n",
       "  </tbody>\n",
       "</table>\n",
       "</div>"
      ],
      "text/plain": [
       "                                                text  spam\n",
       "0  Subject: naturally irresistible your corporate...     1\n",
       "1  Subject: the stock trading gunslinger  fanny i...     1\n",
       "2  Subject: unbelievable new homes made easy  im ...     1\n",
       "3  Subject: 4 color printing special  request add...     1\n",
       "4  Subject: do not have money , get software cds ...     1"
      ]
     },
     "execution_count": 3,
     "metadata": {},
     "output_type": "execute_result"
    }
   ],
   "source": [
    "df=pd.read_csv(\"../input/email-spam-dataset/Email spam.csv\")\n",
    "df.head()"
   ]
  },
  {
   "cell_type": "code",
   "execution_count": 4,
   "metadata": {
    "execution": {
     "iopub.execute_input": "2020-11-19T11:10:49.085239Z",
     "iopub.status.busy": "2020-11-19T11:10:49.084496Z",
     "iopub.status.idle": "2020-11-19T11:10:49.113519Z",
     "shell.execute_reply": "2020-11-19T11:10:49.112875Z"
    },
    "papermill": {
     "duration": 0.052192,
     "end_time": "2020-11-19T11:10:49.113646",
     "exception": false,
     "start_time": "2020-11-19T11:10:49.061454",
     "status": "completed"
    },
    "tags": []
   },
   "outputs": [
    {
     "name": "stdout",
     "output_type": "stream",
     "text": [
      "(5728, 2)\n",
      "(5695, 2)\n"
     ]
    }
   ],
   "source": [
    "print(df.shape)\n",
    "\n",
    "df=df.drop_duplicates()\n",
    "\n",
    "print(df.shape)"
   ]
  },
  {
   "cell_type": "code",
   "execution_count": 5,
   "metadata": {
    "execution": {
     "iopub.execute_input": "2020-11-19T11:10:49.157475Z",
     "iopub.status.busy": "2020-11-19T11:10:49.156360Z",
     "iopub.status.idle": "2020-11-19T11:10:49.167593Z",
     "shell.execute_reply": "2020-11-19T11:10:49.166864Z"
    },
    "papermill": {
     "duration": 0.036799,
     "end_time": "2020-11-19T11:10:49.167768",
     "exception": false,
     "start_time": "2020-11-19T11:10:49.130969",
     "status": "completed"
    },
    "tags": []
   },
   "outputs": [
    {
     "data": {
      "text/html": [
       "<div>\n",
       "<style scoped>\n",
       "    .dataframe tbody tr th:only-of-type {\n",
       "        vertical-align: middle;\n",
       "    }\n",
       "\n",
       "    .dataframe tbody tr th {\n",
       "        vertical-align: top;\n",
       "    }\n",
       "\n",
       "    .dataframe thead th {\n",
       "        text-align: right;\n",
       "    }\n",
       "</style>\n",
       "<table border=\"1\" class=\"dataframe\">\n",
       "  <thead>\n",
       "    <tr style=\"text-align: right;\">\n",
       "      <th></th>\n",
       "      <th>text</th>\n",
       "      <th>spam</th>\n",
       "    </tr>\n",
       "  </thead>\n",
       "  <tbody>\n",
       "    <tr>\n",
       "      <th>0</th>\n",
       "      <td>Subject: naturally irresistible your corporate...</td>\n",
       "      <td>1</td>\n",
       "    </tr>\n",
       "    <tr>\n",
       "      <th>1</th>\n",
       "      <td>Subject: the stock trading gunslinger  fanny i...</td>\n",
       "      <td>1</td>\n",
       "    </tr>\n",
       "    <tr>\n",
       "      <th>2</th>\n",
       "      <td>Subject: unbelievable new homes made easy  im ...</td>\n",
       "      <td>1</td>\n",
       "    </tr>\n",
       "    <tr>\n",
       "      <th>3</th>\n",
       "      <td>Subject: 4 color printing special  request add...</td>\n",
       "      <td>1</td>\n",
       "    </tr>\n",
       "    <tr>\n",
       "      <th>4</th>\n",
       "      <td>Subject: do not have money , get software cds ...</td>\n",
       "      <td>1</td>\n",
       "    </tr>\n",
       "  </tbody>\n",
       "</table>\n",
       "</div>"
      ],
      "text/plain": [
       "                                                text  spam\n",
       "0  Subject: naturally irresistible your corporate...     1\n",
       "1  Subject: the stock trading gunslinger  fanny i...     1\n",
       "2  Subject: unbelievable new homes made easy  im ...     1\n",
       "3  Subject: 4 color printing special  request add...     1\n",
       "4  Subject: do not have money , get software cds ...     1"
      ]
     },
     "execution_count": 5,
     "metadata": {},
     "output_type": "execute_result"
    }
   ],
   "source": [
    "df = df.reset_index(inplace = False)[['text','spam']]\n",
    "df.head()"
   ]
  },
  {
   "cell_type": "markdown",
   "metadata": {
    "papermill": {
     "duration": 0.017647,
     "end_time": "2020-11-19T11:10:49.203591",
     "exception": false,
     "start_time": "2020-11-19T11:10:49.185944",
     "status": "completed"
    },
    "tags": []
   },
   "source": [
    "# Data cleaning"
   ]
  },
  {
   "cell_type": "code",
   "execution_count": 6,
   "metadata": {
    "execution": {
     "iopub.execute_input": "2020-11-19T11:10:49.249092Z",
     "iopub.status.busy": "2020-11-19T11:10:49.248351Z",
     "iopub.status.idle": "2020-11-19T11:10:52.902182Z",
     "shell.execute_reply": "2020-11-19T11:10:52.901537Z"
    },
    "papermill": {
     "duration": 3.680759,
     "end_time": "2020-11-19T11:10:52.902332",
     "exception": false,
     "start_time": "2020-11-19T11:10:49.221573",
     "status": "completed"
    },
    "tags": []
   },
   "outputs": [
    {
     "data": {
      "text/html": [
       "<div>\n",
       "<style scoped>\n",
       "    .dataframe tbody tr th:only-of-type {\n",
       "        vertical-align: middle;\n",
       "    }\n",
       "\n",
       "    .dataframe tbody tr th {\n",
       "        vertical-align: top;\n",
       "    }\n",
       "\n",
       "    .dataframe thead th {\n",
       "        text-align: right;\n",
       "    }\n",
       "</style>\n",
       "<table border=\"1\" class=\"dataframe\">\n",
       "  <thead>\n",
       "    <tr style=\"text-align: right;\">\n",
       "      <th></th>\n",
       "      <th>index</th>\n",
       "      <th>text</th>\n",
       "      <th>spam</th>\n",
       "    </tr>\n",
       "  </thead>\n",
       "  <tbody>\n",
       "    <tr>\n",
       "      <th>0</th>\n",
       "      <td>0</td>\n",
       "      <td>subject naturally irresistible your corporate ...</td>\n",
       "      <td>1</td>\n",
       "    </tr>\n",
       "    <tr>\n",
       "      <th>1</th>\n",
       "      <td>1</td>\n",
       "      <td>subject the stock trading gunslinger fanny is ...</td>\n",
       "      <td>1</td>\n",
       "    </tr>\n",
       "    <tr>\n",
       "      <th>2</th>\n",
       "      <td>2</td>\n",
       "      <td>subject unbelievable new homes made easy im wa...</td>\n",
       "      <td>1</td>\n",
       "    </tr>\n",
       "  </tbody>\n",
       "</table>\n",
       "</div>"
      ],
      "text/plain": [
       "   index                                               text  spam\n",
       "0      0  subject naturally irresistible your corporate ...     1\n",
       "1      1  subject the stock trading gunslinger fanny is ...     1\n",
       "2      2  subject unbelievable new homes made easy im wa...     1"
      ]
     },
     "execution_count": 6,
     "metadata": {},
     "output_type": "execute_result"
    }
   ],
   "source": [
    "clean_desc = []\n",
    "for w in range(len(df.text)):\n",
    "    desc = df['text'][w].lower()\n",
    "    \n",
    "    #remove punctuation\n",
    "    desc = re.sub('[^a-zA-Z]', ' ', desc)\n",
    "    \n",
    "    #remove tags\n",
    "    desc=re.sub(\"&lt;/?.*?&gt;\",\" &lt;&gt; \",desc)\n",
    "    \n",
    "    #remove digits and special chars\n",
    "    desc=re.sub(\"(\\\\d|\\\\W)+\",\" \",desc)\n",
    "    \n",
    "    clean_desc.append(desc)\n",
    "#assign the cleaned descriptions to the data frame\n",
    "df['text'] = clean_desc\n",
    "df = df.reset_index()        \n",
    "df.head(3)"
   ]
  },
  {
   "cell_type": "markdown",
   "metadata": {
    "papermill": {
     "duration": 0.018285,
     "end_time": "2020-11-19T11:10:52.939492",
     "exception": false,
     "start_time": "2020-11-19T11:10:52.921207",
     "status": "completed"
    },
    "tags": []
   },
   "source": [
    "# Creating word embedding"
   ]
  },
  {
   "cell_type": "code",
   "execution_count": 7,
   "metadata": {
    "execution": {
     "iopub.execute_input": "2020-11-19T11:10:52.982740Z",
     "iopub.status.busy": "2020-11-19T11:10:52.981956Z",
     "iopub.status.idle": "2020-11-19T11:10:55.740891Z",
     "shell.execute_reply": "2020-11-19T11:10:55.740116Z"
    },
    "papermill": {
     "duration": 2.783002,
     "end_time": "2020-11-19T11:10:55.741019",
     "exception": false,
     "start_time": "2020-11-19T11:10:52.958017",
     "status": "completed"
    },
    "tags": []
   },
   "outputs": [
    {
     "data": {
      "text/plain": [
       "<5695x33688 sparse matrix of type '<class 'numpy.int64'>'\n",
       "\twith 660304 stored elements in Compressed Sparse Row format>"
      ]
     },
     "execution_count": 7,
     "metadata": {},
     "output_type": "execute_result"
    }
   ],
   "source": [
    "from sklearn.feature_extraction.text import CountVectorizer\n",
    "\n",
    "text_vec=CountVectorizer().fit_transform(df['text'])\n",
    "text_vec"
   ]
  },
  {
   "cell_type": "markdown",
   "metadata": {
    "papermill": {
     "duration": 0.018969,
     "end_time": "2020-11-19T11:10:55.779558",
     "exception": false,
     "start_time": "2020-11-19T11:10:55.760589",
     "status": "completed"
    },
    "tags": []
   },
   "source": [
    "# Train test split"
   ]
  },
  {
   "cell_type": "code",
   "execution_count": 8,
   "metadata": {
    "execution": {
     "iopub.execute_input": "2020-11-19T11:10:55.824612Z",
     "iopub.status.busy": "2020-11-19T11:10:55.823797Z",
     "iopub.status.idle": "2020-11-19T11:10:55.885028Z",
     "shell.execute_reply": "2020-11-19T11:10:55.884248Z"
    },
    "papermill": {
     "duration": 0.086245,
     "end_time": "2020-11-19T11:10:55.885160",
     "exception": false,
     "start_time": "2020-11-19T11:10:55.798915",
     "status": "completed"
    },
    "tags": []
   },
   "outputs": [],
   "source": [
    "from sklearn.model_selection import train_test_split\n",
    "\n",
    "xtrain,xtest,ytrain,ytest=train_test_split(text_vec,df['spam'],test_size=0.4,random_state=44,shuffle=True)"
   ]
  },
  {
   "cell_type": "markdown",
   "metadata": {
    "papermill": {
     "duration": 0.019198,
     "end_time": "2020-11-19T11:10:55.924098",
     "exception": false,
     "start_time": "2020-11-19T11:10:55.904900",
     "status": "completed"
    },
    "tags": []
   },
   "source": [
    "# Gradient Boosting classifier"
   ]
  },
  {
   "cell_type": "code",
   "execution_count": 9,
   "metadata": {
    "execution": {
     "iopub.execute_input": "2020-11-19T11:10:55.968898Z",
     "iopub.status.busy": "2020-11-19T11:10:55.968119Z",
     "iopub.status.idle": "2020-11-19T11:10:56.169576Z",
     "shell.execute_reply": "2020-11-19T11:10:56.168753Z"
    },
    "papermill": {
     "duration": 0.225988,
     "end_time": "2020-11-19T11:10:56.169710",
     "exception": false,
     "start_time": "2020-11-19T11:10:55.943722",
     "status": "completed"
    },
    "tags": []
   },
   "outputs": [],
   "source": [
    "from sklearn import ensemble\n",
    "\n",
    "classifier=ensemble.GradientBoostingClassifier(n_estimators=100,learning_rate=0.5,max_depth=6)"
   ]
  },
  {
   "cell_type": "code",
   "execution_count": 10,
   "metadata": {
    "execution": {
     "iopub.execute_input": "2020-11-19T11:10:56.214710Z",
     "iopub.status.busy": "2020-11-19T11:10:56.213974Z",
     "iopub.status.idle": "2020-11-19T11:11:16.454723Z",
     "shell.execute_reply": "2020-11-19T11:11:16.454110Z"
    },
    "papermill": {
     "duration": 20.265176,
     "end_time": "2020-11-19T11:11:16.454849",
     "exception": false,
     "start_time": "2020-11-19T11:10:56.189673",
     "status": "completed"
    },
    "tags": []
   },
   "outputs": [
    {
     "data": {
      "text/plain": [
       "GradientBoostingClassifier(learning_rate=0.5, max_depth=6)"
      ]
     },
     "execution_count": 10,
     "metadata": {},
     "output_type": "execute_result"
    }
   ],
   "source": [
    "classifier.fit(xtrain,ytrain)"
   ]
  },
  {
   "cell_type": "code",
   "execution_count": 11,
   "metadata": {
    "execution": {
     "iopub.execute_input": "2020-11-19T11:11:16.501410Z",
     "iopub.status.busy": "2020-11-19T11:11:16.500622Z",
     "iopub.status.idle": "2020-11-19T11:11:16.531995Z",
     "shell.execute_reply": "2020-11-19T11:11:16.531185Z"
    },
    "papermill": {
     "duration": 0.05687,
     "end_time": "2020-11-19T11:11:16.532121",
     "exception": false,
     "start_time": "2020-11-19T11:11:16.475251",
     "status": "completed"
    },
    "tags": []
   },
   "outputs": [
    {
     "data": {
      "text/plain": [
       "97.41000877963126"
      ]
     },
     "execution_count": 11,
     "metadata": {},
     "output_type": "execute_result"
    }
   ],
   "source": [
    "from sklearn.metrics import accuracy_score\n",
    "\n",
    "ypred=classifier.predict(xtest)\n",
    "\n",
    "acc=accuracy_score(ypred,ytest)*100\n",
    "acc"
   ]
  },
  {
   "cell_type": "code",
   "execution_count": 12,
   "metadata": {
    "execution": {
     "iopub.execute_input": "2020-11-19T11:11:16.579948Z",
     "iopub.status.busy": "2020-11-19T11:11:16.579183Z",
     "iopub.status.idle": "2020-11-19T11:11:16.996760Z",
     "shell.execute_reply": "2020-11-19T11:11:16.995918Z"
    },
    "papermill": {
     "duration": 0.443772,
     "end_time": "2020-11-19T11:11:16.996898",
     "exception": false,
     "start_time": "2020-11-19T11:11:16.553126",
     "status": "completed"
    },
    "tags": []
   },
   "outputs": [
    {
     "data": {
      "text/plain": [
       "<matplotlib.axes._subplots.AxesSubplot at 0x7f9d6a09e690>"
      ]
     },
     "execution_count": 12,
     "metadata": {},
     "output_type": "execute_result"
    },
    {
     "data": {
      "image/png": "[encoded data removed]",
      "text/plain": [
       "<Figure size 432x288 with 2 Axes>"
      ]
     },
     "metadata": {
      "needs_background": "light"
     },
     "output_type": "display_data"
    }
   ],
   "source": [
    "from sklearn.metrics import confusion_matrix\n",
    "import seaborn as sns\n",
    "\n",
    "sns.heatmap(confusion_matrix(ypred,ytest),annot=True)"
   ]
  },
  {
   "cell_type": "markdown",
   "metadata": {
    "papermill": {
     "duration": 0.024731,
     "end_time": "2020-11-19T11:11:17.048190",
     "exception": false,
     "start_time": "2020-11-19T11:11:17.023459",
     "status": "completed"
    },
    "tags": []
   },
   "source": [
    "# Sentiment analysis"
   ]
  },
  {
   "cell_type": "code",
   "execution_count": 13,
   "metadata": {
    "execution": {
     "iopub.execute_input": "2020-11-19T11:11:17.106169Z",
     "iopub.status.busy": "2020-11-19T11:11:17.105461Z",
     "iopub.status.idle": "2020-11-19T11:11:28.986871Z",
     "shell.execute_reply": "2020-11-19T11:11:28.986076Z"
    },
    "papermill": {
     "duration": 11.913335,
     "end_time": "2020-11-19T11:11:28.986995",
     "exception": false,
     "start_time": "2020-11-19T11:11:17.073660",
     "status": "completed"
    },
    "tags": []
   },
   "outputs": [
    {
     "data": {
      "text/html": [
       "<div>\n",
       "<style scoped>\n",
       "    .dataframe tbody tr th:only-of-type {\n",
       "        vertical-align: middle;\n",
       "    }\n",
       "\n",
       "    .dataframe tbody tr th {\n",
       "        vertical-align: top;\n",
       "    }\n",
       "\n",
       "    .dataframe thead th {\n",
       "        text-align: right;\n",
       "    }\n",
       "</style>\n",
       "<table border=\"1\" class=\"dataframe\">\n",
       "  <thead>\n",
       "    <tr style=\"text-align: right;\">\n",
       "      <th></th>\n",
       "      <th>index</th>\n",
       "      <th>text</th>\n",
       "      <th>spam</th>\n",
       "      <th>tb_Pol</th>\n",
       "      <th>tb_Subj</th>\n",
       "    </tr>\n",
       "  </thead>\n",
       "  <tbody>\n",
       "    <tr>\n",
       "      <th>0</th>\n",
       "      <td>0</td>\n",
       "      <td>subject naturally irresistible your corporate ...</td>\n",
       "      <td>1</td>\n",
       "      <td>0.296607</td>\n",
       "      <td>0.546905</td>\n",
       "    </tr>\n",
       "    <tr>\n",
       "      <th>1</th>\n",
       "      <td>1</td>\n",
       "      <td>subject the stock trading gunslinger fanny is ...</td>\n",
       "      <td>1</td>\n",
       "      <td>0.160317</td>\n",
       "      <td>0.562698</td>\n",
       "    </tr>\n",
       "    <tr>\n",
       "      <th>2</th>\n",
       "      <td>2</td>\n",
       "      <td>subject unbelievable new homes made easy im wa...</td>\n",
       "      <td>1</td>\n",
       "      <td>0.040229</td>\n",
       "      <td>0.480581</td>\n",
       "    </tr>\n",
       "  </tbody>\n",
       "</table>\n",
       "</div>"
      ],
      "text/plain": [
       "   index                                               text  spam    tb_Pol  \\\n",
       "0      0  subject naturally irresistible your corporate ...     1  0.296607   \n",
       "1      1  subject the stock trading gunslinger fanny is ...     1  0.160317   \n",
       "2      2  subject unbelievable new homes made easy im wa...     1  0.040229   \n",
       "\n",
       "    tb_Subj  \n",
       "0  0.546905  \n",
       "1  0.562698  \n",
       "2  0.480581  "
      ]
     },
     "execution_count": 13,
     "metadata": {},
     "output_type": "execute_result"
    }
   ],
   "source": [
    "from textblob import TextBlob\n",
    "\n",
    "#load the descriptions into textblob\n",
    "email_blob = [TextBlob(text) for text in df['text']]\n",
    "#add the sentiment metrics to the dataframe\n",
    "df['tb_Pol'] = [b.sentiment.polarity for b in email_blob]\n",
    "df['tb_Subj'] = [b.sentiment.subjectivity for b in email_blob]\n",
    "#show dataframe\n",
    "df.head(3)"
   ]
  },
  {
   "cell_type": "markdown",
   "metadata": {
    "papermill": {
     "duration": 0.023326,
     "end_time": "2020-11-19T11:11:29.033953",
     "exception": false,
     "start_time": "2020-11-19T11:11:29.010627",
     "status": "completed"
    },
    "tags": []
   },
   "source": [
    "**tb_pol indicatin the polarity,tells it is positive if it is >0**"
   ]
  },
  {
   "cell_type": "markdown",
   "metadata": {
    "papermill": {
     "duration": 0.022847,
     "end_time": "2020-11-19T11:11:29.080108",
     "exception": false,
     "start_time": "2020-11-19T11:11:29.057261",
     "status": "completed"
    },
    "tags": []
   },
   "source": [
    "### Here the positive class is spam"
   ]
  },
  {
   "cell_type": "code",
   "execution_count": null,
   "metadata": {
    "papermill": {
     "duration": 0.022667,
     "end_time": "2020-11-19T11:11:29.125909",
     "exception": false,
     "start_time": "2020-11-19T11:11:29.103242",
     "status": "completed"
    },
    "tags": []
   },
   "outputs": [],
   "source": []
  }
 ],
 "metadata": {
  "kernelspec": {
   "display_name": "Python 3",
   "language": "python",
   "name": "python3"
  },
  "language_info": {
   "codemirror_mode": {
    "name": "ipython",
    "version": 3
   },
   "file_extension": ".py",
   "mimetype": "text/x-python",
   "name": "python",
   "nbconvert_exporter": "python",
   "pygments_lexer": "ipython3",
   "version": "3.7.6"
  },
  "papermill": {
   "duration": 45.605462,
   "end_time": "2020-11-19T11:11:29.257878",
   "environment_variables": {},
   "exception": null,
   "input_path": "__notebook__.ipynb",
   "output_path": "__notebook__.ipynb",
   "parameters": {},
   "start_time": "2020-11-19T11:10:43.652416",
   "version": "2.1.0"
  }
 },
 "nbformat": 4,
 "nbformat_minor": 4
}
